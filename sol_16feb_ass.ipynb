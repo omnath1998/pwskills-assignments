{
 "cells": [
  {
   "cell_type": "code",
   "execution_count": null,
   "id": "aec6a227-bfad-4089-b8d2-3d84b6fd40ff",
   "metadata": {},
   "outputs": [],
   "source": [
    "# Q1\n",
    "A database is an organized collection of structured information, or\n",
    "data, typically stored electronically in a computer system.\n",
    "\n",
    "SQL and NoSQL differ in whether they are relational (SQL) or non-relational \n",
    "(NoSQL), whether their schemas are predefined or dynamic, how they scale, \n",
    "the type of data they include and whether they are more fit for \n",
    "multi-row transactions or unstructured data."
   ]
  },
  {
   "cell_type": "code",
   "execution_count": null,
   "id": "390f83ce-7794-40dd-bce5-81718e564f18",
   "metadata": {},
   "outputs": [],
   "source": [
    "# Q2\n",
    "A data definition language (DDL) is a computer language used to create and \n",
    "modify the structure of database objects in a database.\n",
    "\n",
    "create database database_name;\n",
    "DROP DATABASE database_name;\n",
    "create table table_name;\n",
    "truncate table table_name;"
   ]
  },
  {
   "cell_type": "code",
   "execution_count": null,
   "id": "755b968b-19c5-4938-af76-93825e3ba0b3",
   "metadata": {},
   "outputs": [],
   "source": [
    "# Q3\n",
    "A data manipulation language (DML) is a family of computer languages \n",
    "including commands permitting users to manipulate data in a database.\n"
   ]
  },
  {
   "cell_type": "code",
   "execution_count": null,
   "id": "84292615-f1e0-40c3-bec4-2bb7bee425b8",
   "metadata": {},
   "outputs": [],
   "source": [
    "# Q6\n",
    "\n",
    "import mysql.connector\n",
    "mydb = mysql.connector.connect(\n",
    "  host=\"localhost\",\n",
    "  user=\"abc\",\n",
    "  password=\"password\"\n",
    ")\n",
    "mycursor = mydb.cursor()\n",
    "mycursor.execute(\"SHOW DATABASES\")\n",
    "for x in mycursor:\n",
    "  print(x)"
   ]
  },
  {
   "cell_type": "code",
   "execution_count": null,
   "id": "585db6b5-a9d7-4d13-8f63-0561f1fde697",
   "metadata": {},
   "outputs": [],
   "source": []
  }
 ],
 "metadata": {
  "kernelspec": {
   "display_name": "Python 3 (ipykernel)",
   "language": "python",
   "name": "python3"
  },
  "language_info": {
   "codemirror_mode": {
    "name": "ipython",
    "version": 3
   },
   "file_extension": ".py",
   "mimetype": "text/x-python",
   "name": "python",
   "nbconvert_exporter": "python",
   "pygments_lexer": "ipython3",
   "version": "3.10.6"
  }
 },
 "nbformat": 4,
 "nbformat_minor": 5
}
