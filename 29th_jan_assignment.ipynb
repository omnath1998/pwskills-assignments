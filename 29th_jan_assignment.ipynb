{
 "cells": [
  {
   "cell_type": "code",
   "execution_count": null,
   "id": "572f6dbc-7da0-4a8e-b654-cee2ddf8ca71",
   "metadata": {},
   "outputs": [],
   "source": [
    "1. Python Programming Language was devloped by Guido van Rossum.\n",
    "\n",
    "2. which type of programming does Python support ?\n",
    "    ans :  Object-oriented programming and structured programming are fully \n",
    "    supported, and many of their features support functional programming and \n",
    "    aspect-oriented programming.\n",
    "    \n",
    "3. Is python case sensitive when dealing with identifiers ?\n",
    "   ans : yes. python is a case sensitive language.\n",
    "    \n",
    "4. What is the correct extension of the Python file?\n",
    "    ans: .py\n",
    "    \n",
    "5. Is Python code compiled or interpreted?\n",
    "    ans: interpreted.\n",
    "    \n",
    "6. Name a few blocks of code used to define in Python language?\n",
    "7. State a character used to give single-line comments in Python?\n",
    "    ans : #\n",
    "8. Mention functions which can help us to find the version of python that we are currently working on?\n",
    "     ans: python_version()\n",
    "9. Python supports the creation of anonymous functions at runtime, using a construct called\n",
    "10. What does pip stand for python?\n",
    "11. Mention a few built-in functions in python?     "
   ]
  }
 ],
 "metadata": {
  "kernelspec": {
   "display_name": "Python 3 (ipykernel)",
   "language": "python",
   "name": "python3"
  },
  "language_info": {
   "codemirror_mode": {
    "name": "ipython",
    "version": 3
   },
   "file_extension": ".py",
   "mimetype": "text/x-python",
   "name": "python",
   "nbconvert_exporter": "python",
   "pygments_lexer": "ipython3",
   "version": "3.10.6"
  }
 },
 "nbformat": 4,
 "nbformat_minor": 5
}
