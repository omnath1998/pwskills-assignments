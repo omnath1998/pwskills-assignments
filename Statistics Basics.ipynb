{
 "cells": [
  {
   "cell_type": "markdown",
   "id": "3020c9e9-fa82-43d0-84c6-5862e2ed09c4",
   "metadata": {},
   "source": [
    "**Q1. What is Statistics?**  \n",
    " --> statistics is the science of collecting , organising and analysing data."
   ]
  },
  {
   "cell_type": "markdown",
   "id": "ea47fbec-14cd-431e-8dd2-a29b07b7507e",
   "metadata": {},
   "source": [
    " **Q2. Define the different types of statistics and give an example of when each type might be used.**  "
   ]
  },
  {
   "cell_type": "markdown",
   "id": "af587570-1886-4eb1-9066-fc8ba90e79bc",
   "metadata": {},
   "source": [
    "    1. Descriptive Statistics  \n",
    "    1. Inferential Statistics"
   ]
  },
  {
   "cell_type": "markdown",
   "id": "8a62b750-965e-409f-aa6c-478cb622da4b",
   "metadata": {},
   "source": [
    "**Q3. What are the different types of data and how do they differ from each other? Provide an example of\n",
    "each type of data.**      "
   ]
  },
  {
   "cell_type": "markdown",
   "id": "6e413c02-93c0-4763-84ab-fc7e44ca0f5a",
   "metadata": {},
   "source": [
    " Data are two types  \n",
    " 1. Quantitative\n",
    " 2. Qualitative"
   ]
  },
  {
   "cell_type": "markdown",
   "id": "4b551c89-15db-48cd-ad3f-35ae8256a874",
   "metadata": {},
   "source": [
    "Q4. Categorise the following datasets with respect to quantitative and qualitative data types:  \n",
    "(i) Grading in exam: A+, A, B+, B, C+, C, D, E : **Ordinal**  \n",
    "(ii) Colour of mangoes: yellow, green, orange, red : **Nominal**  \n",
    "(iii) Height data of a class: [178.9, 179, 179.5, 176, 177.2, 178.3, 175.8,...] : **Continuous**   \n",
    "(iv) Number of mangoes exported by a farm: [500, 600, 478, 672, ...] : **Discrete**  "
   ]
  },
  {
   "cell_type": "markdown",
   "id": "163b74c7-7848-4069-8611-a3ec3e162ae1",
   "metadata": {},
   "source": [
    "**Q7. How nominal data type is different from ordinal data type.**  \n",
    "--> Nominal and Ordinal datatypes both are Qualitative datatypes. In case of the nominal datatype order of the data does not matter but in case of the ordinal datatype it matters. Ex-  \n",
    "1. Blood group is an Nominal datatype where there are no higher or lower order in the blood groups.  \n",
    "2. Grading system in exams is a ordinal data. where 'A' has higher order than 'B'."
   ]
  },
  {
   "cell_type": "markdown",
   "id": "ea874704-11db-4730-bacc-c149f4b78b87",
   "metadata": {},
   "source": [
    "**Q10. What are some common measures of central tendency and variability used in statistics? Explain\n",
    "how each measure can be used to describe a dataset.**\n",
    "--> there is three common examples of central tendency:  \n",
    "1. mean\n",
    "2. median\n",
    "3. mod"
   ]
  },
  {
   "cell_type": "code",
   "execution_count": null,
   "id": "a304cac1-8095-41d1-b873-b15736bc1c9e",
   "metadata": {},
   "outputs": [],
   "source": []
  }
 ],
 "metadata": {
  "kernelspec": {
   "display_name": "Python 3 (ipykernel)",
   "language": "python",
   "name": "python3"
  },
  "language_info": {
   "codemirror_mode": {
    "name": "ipython",
    "version": 3
   },
   "file_extension": ".py",
   "mimetype": "text/x-python",
   "name": "python",
   "nbconvert_exporter": "python",
   "pygments_lexer": "ipython3",
   "version": "3.10.6"
  }
 },
 "nbformat": 4,
 "nbformat_minor": 5
}
